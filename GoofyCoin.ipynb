{
 "cells": [
  {
   "cell_type": "markdown",
   "metadata": {},
   "source": [
    "# A Python Implementation of GoofyCoin - a simple and useless cryptocurrency"
   ]
  },
  {
   "cell_type": "markdown",
   "metadata": {},
   "source": [
    "<b>Author:</b> Thiago Cardoso <br>\n",
    "<b>Created on:</b> 26/03/2021 "
   ]
  },
  {
   "cell_type": "raw",
   "metadata": {},
   "source": [
    "## 1 - Introduction\n",
    "\n",
    "GoofyCoin is about the simplest (and thus useless) cryptocurrency we can imagine. It is described in Chapter 1 of the book \"Bitcoin and Cryptocurrency Technologies\", written by Arvind Narayanan, Joseph Bonneau, Edward Felten, Andrew Miller, Steven Goldfeder, and published by Princeton University Press in 2016. As a blockchain beginner, I tried to implement it in Python for learning purposes. I'm sure that my code contains mistakes and maybe my understanding of GoofyCoin rules, as described in the book, is not 100% accurate. If anyone finds any of those problems, feel free to comment here.\n",
    "\n",
    "A jupyter notebook containing this introduction, explanation of GoofyCoin (as described in the book), and my code is available in the following GitHub: https://github.com/thiagoguimaraesdf/goofyCoinPython\n",
    "\n",
    "## 2 - GoofyCoin rules and protocol\n",
    "\n",
    "The two main GoofyCoin rules are:\n",
    "\n",
    "    (i) Goofy, which is a unique entity, can create new coins whenever he wants and these newly created coins belong to him.\n",
    "\n",
    "    (ii) Hoever owns a GoofyCoin can transfer it on to someone else. Transferring a coin is not simply a matter of sending the coin data structure to the recipient — it’s done using cryptographic operations.\n",
    " \n",
    "The protocol for creating a new GoofyCoin is described below:\n",
    "\n",
    "    \"To create a coin, Goofy generates a unique coin ID uniqueCoinID that he’s never generated before\n",
    "    and constructs the string “CreateCoin [ uniqueCoinID ]”. He then computes the digital signature of\n",
    "    this string with his secret signing key. The string, together with Goofy’s signature, is a coin. Anyone\n",
    "    can verify that the coin contains Goofy’s valid signature of a CreateCoin statement, and is therefore a\n",
    "    valid coin.\"\n",
    "\n",
    "The protocol for transferring an existing coin is described below:\n",
    "\n",
    "    \"Let’s say Goofy wants to transfer a coin that he created to Alice. To do this he creates a new\n",
    "    statement that says “Pay this to Alice” where “this” is a hash pointer that references the coin in\n",
    "    question. And as we saw earlier, identities are really just public keys, so “Alice” refers to Alice’s public\n",
    "    key. Finally, Goofy signs the string representing the statement. Since Goofy is the one who originally\n",
    "    owned that coin, he has to sign any transaction that spends the coin. Once this data structure\n",
    "    representing Goofy’s transaction signed by him exists, Alice owns the coin. She can prove to anyone\n",
    "    that she owns the coin, because she can present the data structure with Goofy’s valid signature.\n",
    "    Furthermore, it points to a valid coin that was owned by Goofy. So the validity and ownership of coins\n",
    "    are self‐evident in the system.\n",
    "\n",
    "    Once Alice owns the coin, she can spend it in turn. To do this she creates a statement that says, “Pay\n",
    "    this coin to Bob’s public key” where “this” is a hash pointer to the coin that was owned by her. And of\n",
    "    course, Alice signs this statement. Anyone, when presented with this coin, can verify that Bob is the\n",
    "    owner. They would follow the chain of hash pointers back to the coin’s creation and verify that at\n",
    "    each step, the rightful owner signed a statement that says “pay this coin to [new owner]”.\"\n",
    "\n",
    "A more formal summary of GoofyCoin rules is described in the book:\n",
    "\n",
    "    ● Goofy can create new coins by simply signing a statement that he’s making a new coin with a\n",
    "    unique coin ID.\n",
    "\n",
    "    ● Whoever owns a coin can pass it on to someone else by signing a statement that saying, “Pass\n",
    "    on this coin to X” (where X is specified as a public key)\n",
    "\n",
    "    ● Anyone can verify the validity of a coin by following the chain of hash pointers back to its\n",
    "    creation by Goofy, verifying all of the signatures along the way."
   ]
  },
  {
   "cell_type": "markdown",
   "metadata": {},
   "source": [
    "## 3 - Implementation Code"
   ]
  },
  {
   "cell_type": "markdown",
   "metadata": {},
   "source": [
    "### 3.1 - Library Import"
   ]
  },
  {
   "cell_type": "code",
   "execution_count": 263,
   "metadata": {},
   "outputs": [],
   "source": [
    "import random\n",
    "import string\n",
    "import hashlib\n",
    "\n",
    "from ecdsa import SigningKey"
   ]
  },
  {
   "cell_type": "markdown",
   "metadata": {},
   "source": [
    "### 3.2 - Our random string generator"
   ]
  },
  {
   "cell_type": "code",
   "execution_count": 264,
   "metadata": {},
   "outputs": [],
   "source": [
    "# Defining a function to generate a random string with length n.\n",
    "#\n",
    "#    Note: There are probably more randomized algo's for generating a random n length str. \n",
    "#    I'm employing here a very simple one\n",
    "\n",
    "def get_random_string(length):\n",
    "    hexa = string.hexdigits\n",
    "    result_str = ''.join(random.choice(hexa) for i in range(length))\n",
    "    return result_str "
   ]
  },
  {
   "cell_type": "markdown",
   "metadata": {},
   "source": [
    "### 3.3 - Creating Goofy Keys"
   ]
  },
  {
   "cell_type": "code",
   "execution_count": 265,
   "metadata": {},
   "outputs": [],
   "source": [
    "# We are going to create the real Goofy Signature and Public Keys outside our GoofyCoin class. \n",
    "# I'm using here the ECDSA library (and algo) to generate and further verify Goofy private signature\n",
    "# For more information about ECDSA algo:\n",
    "# https://www.cs.miami.edu/home/burt/learning/Csc609.142/ecdsa-cert.pdf\n",
    "\n",
    "realGoofyKey = SigningKey.generate()     \n",
    "goofyVerifyingKey = realGoofyKey.verifying_key"
   ]
  },
  {
   "cell_type": "markdown",
   "metadata": {},
   "source": [
    "### 3.4 - The GoofyCoin Class"
   ]
  },
  {
   "cell_type": "code",
   "execution_count": 266,
   "metadata": {},
   "outputs": [],
   "source": [
    "class GoofyCoin(object):\n",
    "    \n",
    "    def __init__(self):\n",
    "        self.chain = []\n",
    "        \n",
    "    def CreateUser(self):\n",
    "        userSk = SigningKey.generate()     \n",
    "        userPk = userSk.verifying_key\n",
    "        return userSk, userPk   \n",
    "            \n",
    "    def CreateCoin(self, goofyKey):\n",
    "        if goofyKey == realGoofyKey:\n",
    "            # 1st we gen a random string with 256 chars\n",
    "            temp_uniqueId = get_random_string(256)\n",
    "            # 2nd we create a message concatenating Create Coin and the random unique Id. \n",
    "            # Ecdsa require using bytes instead of str\n",
    "            message = bytes(\"Create Coin \" + str(temp_uniqueId), 'utf-8')\n",
    "            # 3rd we compute the digital signature of this string with Goofy Signature\n",
    "            signature = goofyKey.sign_deterministic(message)\n",
    "            # 4th we create a new Goofy Coin object. This object indicates:\n",
    "            # 'Id': it's unique and random 256 char Id\n",
    "            # 'Signature': Goofy signature for this specific coin\n",
    "            # 'Owner': The current owner of this coin. Since we are creating a brand new coin, Goofy owe it\n",
    "            newGoofyCoin = {\n",
    "                'Signature': signature,\n",
    "                'Data': message,\n",
    "                'Destiny': goofyVerifyingKey,\n",
    "                'HashPointer': \"genesis\"\n",
    "            }\n",
    "            # 5th we add the new coin to our chain\n",
    "            self.chain.append(newGoofyCoin)\n",
    "\n",
    "        else:\n",
    "            raise Exception(\"Do not try to fool me\")\n",
    "\n",
    "        \n",
    "    def TransferCoin(self, destinyPk, userSk, coinSignature):\n",
    "        \n",
    "        m = hashlib.sha256()\n",
    "        m.update(coinSignature)\n",
    "\n",
    "        # 1st lets find the coin (represented by its signature) in the chain\n",
    "        for i in self.chain:\n",
    "\n",
    "            if coinSignature == i.get('Signature'):\n",
    "                # 2nd lets insert a new message in the chain signaling the coin transfer. \n",
    "                # We wont verify if the coin is valid now\n",
    "                message =  bytes('Pay' + str(destinyPk) + str(m.digest()), 'utf-8')\n",
    "                signature = userSk.sign_deterministic(message)\n",
    "                self.chain.append({\n",
    "                    'Signature': signature,\n",
    "                    'Data': message,\n",
    "                    'Destiny': destinyPk,\n",
    "                    'HashPointer': m.digest()\n",
    "                })\n",
    "                return self.chain\n",
    "        \n",
    "        raise Exception(\"This coin do not exist\")\n",
    "        \n",
    "    def VerifyCoin(self, coin):\n",
    "\n",
    "        coinSignature = coin.get('Signature')\n",
    "        coinMessage = coin.get('Data')\n",
    "        coinHashPointer = coin.get('HashPointer')\n",
    "        \n",
    "        # 1st we are going to loop backward through our chain and look for a coin \n",
    "        # which hash(signature) is equal to the HashPointer of this 'coin'.\n",
    "        currentPos = self.chain.index(coin)-1\n",
    "\n",
    "        while currentPos >= 0:\n",
    "            \n",
    "            m = hashlib.sha256()\n",
    "            m.update(self.chain[currentPos].get('Signature'))\n",
    "           \n",
    "            if (coinHashPointer == m.digest()):\n",
    "                \n",
    "                # 2sd now that we found the previous coin, we are going to check \n",
    "                # if 'coin' was really signed by the destiny of its previous owner.\n",
    "                self.chain[currentPos].get('Destiny').verify(coinSignature, coinMessage)\n",
    "                coinSignature = self.chain[currentPos].get('Signature')\n",
    "                coinMessage = self.chain[currentPos].get('Data')\n",
    "                coinHashPointer = self.chain[currentPos].get('HashPointer')\n",
    "                \n",
    "                # 3rd if 'coin' is ok we are moving to check its previous until we reach \n",
    "                # the first in its chain route.\n",
    "                currentPos = currentPos - 1\n",
    "                    \n",
    "            else:\n",
    "                currentPos = currentPos - 1\n",
    "\n",
    "        return print('Good Coin')\n"
   ]
  },
  {
   "cell_type": "markdown",
   "metadata": {},
   "source": [
    "## 4 - Testing our Coin"
   ]
  },
  {
   "cell_type": "code",
   "execution_count": 268,
   "metadata": {},
   "outputs": [
    {
     "data": {
      "text/plain": [
       "[{'Signature': b\"\\xbc\\xa7\\x8a\\xf4\\x80\\x0e:\\xb6\\xd5\\x8eg\\x8d\\xee\\x15+\\x14\\xd2\\xde'\\xe4 B\\xe9\\x96\\xa1k\\xd9\\xe6\\x97:L\\xec\\x822s\\x103\\x8dbr>\\xa3\\xc3\\xcf\\xee\\x7f\\xe4f\",\n",
       "  'Data': b'Create Coin 80dcfF81A5DE000dCe1accfB5b7cF95F52D84eC801509bb49BCbdB3Fbe1fFAdf3013653880D614768F31C49C523D035CaAF14CFC0196FEFeDE7A1EdCA002d875A9B1086f4FE976dF202228Aa15Eb3550eED1559eE73EB6EB5e9eF6e9576963Da1BCFeF6cBe26d2fC4B4E21Fc7B47AEFFdE950fE9b4Fe61Df9bE1cd25a92a9e6F',\n",
       "  'Destiny': VerifyingKey.from_string(b'\\x03o\\x7f\\xc8\\xc0:\\x98\\x0f\\x87Fy\\x01\\xf8f\\\\B|:Y\\xc3k\\x11\\xc2\\xcb\\xdb', NIST192p, sha1),\n",
       "  'HashPointer': 'genesis'},\n",
       " {'Signature': b'\\xea\\xbej\\xab\\xf7\\xaet(7\\xe8\\xa9`\\xde\\xe4\\xf7c] \\xc8\\xd4.&\\xb7\\x90\\xc4\\xc9\\xc2\\xed\\xfe\\x8b\\xc5\\x9c\\x9a\\xbe\\xcc\\xd1\\xd5w\\xf8\\x8f\\xa1\\xc8\\xb9\\xd2\\xab4\\xc0\\xb3',\n",
       "  'Data': b'PayVerifyingKey.from_string(b\\'\\\\x03\\\\x90\\\\xfb\\\\xa3\\\\xce\\\\x98\\\\xe9>/\"\\\\x9b\\\\xa4\\\\x1b\\\\x891\\\\xf0Y\\\\x10;GS\\\\x93\\\\xb1[n\\', NIST192p, sha1)b\\'\\\\x95}@c\\\\x0b\\\\x88b\\\\\\\\2\\\\xc3\\\\xad\\\\x99\\\\xe9M\\\\x1a\\\\x80YBw\\\\xbf\\\\xa1\\\\x01D\\\\xe3nDX\\\\x85\\\\xcf\\\\xff\\\\x0f\\\\x1a\\'',\n",
       "  'Destiny': VerifyingKey.from_string(b'\\x03\\x90\\xfb\\xa3\\xce\\x98\\xe9>/\"\\x9b\\xa4\\x1b\\x891\\xf0Y\\x10;GS\\x93\\xb1[n', NIST192p, sha1),\n",
       "  'HashPointer': b'\\x95}@c\\x0b\\x88b\\\\2\\xc3\\xad\\x99\\xe9M\\x1a\\x80YBw\\xbf\\xa1\\x01D\\xe3nDX\\x85\\xcf\\xff\\x0f\\x1a'},\n",
       " {'Signature': b'>[\\xe2_\\x17\\n#\\x7f8>8\\xfd\\x8b\\x9ai\\xd3s~\\xb1\\xf4\\x9a\\x12\\xea\\x1c\\xbe(\\x90\\x10o1v7\\x9c\\xc2\\xb0\\x81M\\xff\\x9e\\xad\\xe7\\x1f\\x1a\\xa3\\x99w\\xaa\\xf0',\n",
       "  'Data': b\"PayVerifyingKey.from_string(b'\\\\x03o\\\\x7f\\\\xc8\\\\xc0:\\\\x98\\\\x0f\\\\x87Fy\\\\x01\\\\xf8f\\\\\\\\B|:Y\\\\xc3k\\\\x11\\\\xc2\\\\xcb\\\\xdb', NIST192p, sha1)b'\\\\xecG\\\\xdf\\\\xf1b\\\\t\\\\xd2J)\\\\x9f\\\\x0f\\\\xfd[~\\\\xd8*E>\\\\xc9A\\\\x90\\\\xe5\\\\xc7\\\\xc1\\\\x08C> \\\\x98\\\\x05\\\\xd8\\\\xdf'\",\n",
       "  'Destiny': VerifyingKey.from_string(b'\\x03o\\x7f\\xc8\\xc0:\\x98\\x0f\\x87Fy\\x01\\xf8f\\\\B|:Y\\xc3k\\x11\\xc2\\xcb\\xdb', NIST192p, sha1),\n",
       "  'HashPointer': b'\\xecG\\xdf\\xf1b\\t\\xd2J)\\x9f\\x0f\\xfd[~\\xd8*E>\\xc9A\\x90\\xe5\\xc7\\xc1\\x08C> \\x98\\x05\\xd8\\xdf'},\n",
       " {'Signature': b'\\x18\\xb1\\x02\\xa3\\xf4\\x81\\xab\\x1a\\xca\\x8c\\xb4\\xab]\\xf6+\\xe6\\xa4\\xf7$msE\\xdeS\\xb7K\\xeb\\xd02\\xe5\\x1d\\xbe\\xfe\\x86!\\xcc\\x95K\\xba\\x1bm\\xa1w|\\xfc\\xceM\\x82',\n",
       "  'Data': b'PayVerifyingKey.from_string(b\\'\\\\x03\\\\x90\\\\xfb\\\\xa3\\\\xce\\\\x98\\\\xe9>/\"\\\\x9b\\\\xa4\\\\x1b\\\\x891\\\\xf0Y\\\\x10;GS\\\\x93\\\\xb1[n\\', NIST192p, sha1)b\\'\\\\xd0\\\\x867NVRWC\\\\\\'\\\\xc6%\\\\xf5\\\\xfa\\\\x0c\\\\xb9&\\\\xf9S\\\\xf6\\\\xc2\\\\xe1o\\\\xb6\\\\x8e\\\\xe2Td\\\\x9b\"5\\\\xd1\\\\x97\\'',\n",
       "  'Destiny': VerifyingKey.from_string(b'\\x03\\x90\\xfb\\xa3\\xce\\x98\\xe9>/\"\\x9b\\xa4\\x1b\\x891\\xf0Y\\x10;GS\\x93\\xb1[n', NIST192p, sha1),\n",
       "  'HashPointer': b'\\xd0\\x867NVRWC\\'\\xc6%\\xf5\\xfa\\x0c\\xb9&\\xf9S\\xf6\\xc2\\xe1o\\xb6\\x8e\\xe2Td\\x9b\"5\\xd1\\x97'}]"
      ]
     },
     "execution_count": 268,
     "metadata": {},
     "output_type": "execute_result"
    }
   ],
   "source": [
    "Goofy = GoofyCoin()\n",
    "\n",
    "# Creating a GoofyCoin\n",
    "Goofy.CreateCoin(realGoofyKey)\n",
    "\n",
    "# Creating Max, our new GoolfyCoin user\n",
    "MaxSk, MaxPk = Goofy.CreateUser()\n",
    "\n",
    "# Transfering a brand new coin to Max\n",
    "Goofy.TransferCoin(MaxPk, realGoofyKey, Goofy.chain[0].get('Signature'))\n",
    "\n",
    "# Transfering that coin back to Goofy from Max\n",
    "MaxKey = SigningKey.generate()\n",
    "Goofy.TransferCoin(goofyVerifyingKey, MaxSk, Goofy.chain[1].get('Signature'))\n",
    "\n",
    "# Finally lets make Max transfer to himself a coin he do not owl \n",
    "Goofy.TransferCoin(MaxPk, MaxSk, Goofy.chain[2].get('Signature'))\n",
    "\n",
    "# Test 1: Verifying a brand new coin\n",
    "Goofy.VerifyCoin(Goofy.chain[0])\n",
    "\n",
    "# Test 2: Trying to transfer an inexistent coin\n",
    "Goofy.TransferCoin(MaxPk, MaxSk, b\"i dont't exist\")\n",
    "\n",
    "# Test 3: Trying to create a new coin without Goofy Secret Key\n",
    "Goofy.CreateCoin(MaxSk)\n",
    "\n",
    "# Test 4: Verifying a coin that was already transfered once\n",
    "Goofy.VerifyCoin(Goofy.chain[1])\n",
    "\n",
    "# Test 5: Verifying a coin that was already transfered twice\n",
    "Goofy.VerifyCoin(Goofy.chain[2])\n",
    "\n",
    "# Test 6: Verifying a fake coin transfered by Max\n",
    "Goofy.VerifyCoin(Goofy.chain[3])"
   ]
  },
  {
   "cell_type": "code",
   "execution_count": null,
   "metadata": {},
   "outputs": [],
   "source": []
  }
 ],
 "metadata": {
  "kernelspec": {
   "display_name": "Python 3",
   "language": "python",
   "name": "python3"
  },
  "language_info": {
   "codemirror_mode": {
    "name": "ipython",
    "version": 3
   },
   "file_extension": ".py",
   "mimetype": "text/x-python",
   "name": "python",
   "nbconvert_exporter": "python",
   "pygments_lexer": "ipython3",
   "version": "3.8.3"
  }
 },
 "nbformat": 4,
 "nbformat_minor": 4
}
